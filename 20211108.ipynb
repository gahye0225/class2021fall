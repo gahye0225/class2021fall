{
  "nbformat": 4,
  "nbformat_minor": 0,
  "metadata": {
    "colab": {
      "name": "20211108.ipynb",
      "provenance": [],
      "authorship_tag": "ABX9TyPd9cazwCtBc2KxlGOsbgm6",
      "include_colab_link": true
    },
    "kernelspec": {
      "name": "python3",
      "display_name": "Python 3"
    },
    "language_info": {
      "name": "python"
    }
  },
  "cells": [
    {
      "cell_type": "markdown",
      "metadata": {
        "id": "view-in-github",
        "colab_type": "text"
      },
      "source": [
        "<a href=\"https://colab.research.google.com/github/gahye0225/class2021fall/blob/main/20211108.ipynb\" target=\"_parent\"><img src=\"https://colab.research.google.com/assets/colab-badge.svg\" alt=\"Open In Colab\"/></a>"
      ]
    },
    {
      "cell_type": "markdown",
      "metadata": {
        "id": "7QYNdk6U8Zdf"
      },
      "source": [
        "제일 *처음* 해 보는 코딩입니다."
      ]
    },
    {
      "cell_type": "markdown",
      "metadata": {
        "id": "ThfmPAaK-E7V"
      },
      "source": [
        "변수(variables),제어문(syntax),함수"
      ]
    },
    {
      "cell_type": "code",
      "metadata": {
        "colab": {
          "base_uri": "https://localhost:8080/"
        },
        "id": "_gp7HRGh97pb",
        "outputId": "fbe4ee29-dfdf-4c3b-8462-7284c4152dbd"
      },
      "source": [
        "a = 1 \n",
        "b = 1.1\n",
        "c = \"hello\"\n",
        "d = [1,\"abc\",2.1]\n",
        "\n",
        "# print(a)\n",
        "# print(b)\n",
        "\n",
        "print(type(a))\n",
        "print(type(b))\n",
        "print(type(c))\n",
        "print(type(d))"
      ],
      "execution_count": 7,
      "outputs": [
        {
          "output_type": "stream",
          "name": "stdout",
          "text": [
            "<class 'int'>\n",
            "<class 'float'>\n",
            "<class 'str'>\n",
            "<class 'list'>\n"
          ]
        }
      ]
    }
  ]
}