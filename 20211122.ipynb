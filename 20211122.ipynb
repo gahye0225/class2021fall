{
  "nbformat": 4,
  "nbformat_minor": 0,
  "metadata": {
    "kernelspec": {
      "display_name": "Python 3",
      "language": "python",
      "name": "python3"
    },
    "language_info": {
      "codemirror_mode": {
        "name": "ipython",
        "version": 3
      },
      "file_extension": ".py",
      "mimetype": "text/x-python",
      "name": "python",
      "nbconvert_exporter": "python",
      "pygments_lexer": "ipython3",
      "version": "3.7.1"
    },
    "colab": {
      "name": "sound.ipynb",
      "provenance": [],
      "include_colab_link": true
    }
  },
  "cells": [
    {
      "cell_type": "markdown",
      "metadata": {
        "id": "view-in-github",
        "colab_type": "text"
      },
      "source": [
        "<a href=\"https://colab.research.google.com/github/gahye0225/class2021fall/blob/main/20211122.ipynb\" target=\"_parent\"><img src=\"https://colab.research.google.com/assets/colab-badge.svg\" alt=\"Open In Colab\"/></a>"
      ]
    },
    {
      "cell_type": "code",
      "metadata": {
        "id": "GeY9K7FdRTiM"
      },
      "source": [
        "amp=1; sr=10000; phase=0\n",
        "\n",
        "A  = 440.00\n",
        "B  = 558.84\n",
        "C  = 523.25\n",
        "F  = 698.46 \n",
        "D  = 587.33\n",
        "D* = 879.11 \n",
        "E  = 659.25\t \n",
        "Eb = 622.25 \n",
        "F  = 698.46 \n",
        "G  = 783.99\n",
        "Bb = 932.33\n",
        "Gb = 739.99"
      ],
      "execution_count": null,
      "outputs": []
    },
    {
      "cell_type": "code",
      "metadata": {
        "id": "w1R7PgeUQR84"
      },
      "source": [
        "import numpy as np\n",
        "import IPython.display as ipd\n",
        "def phasor_sine(amp, sr, dur, freq, phase):\n",
        "  t = np.arange(1, sr * dur+1)/sr\n",
        "  theta = t * 2*np.pi * freq + phase\n",
        "  s = amp * np.sin(theta)\n",
        "  return s, t, theta"
      ],
      "execution_count": null,
      "outputs": []
    },
    {
      "cell_type": "code",
      "metadata": {
        "id": "MbweWBQVQfV5"
      },
      "source": [
        "# KILLER QUEEN\n",
        "\n",
        "notes = [Bb,G,Bb,D,C,Eb,G,F,0,\n",
        "         Bb,G,Bb,D,C,Eb,G,Bb,0,\n",
        "         B,Eb,G,D*,F,F,A,C,0]\n",
        "\n",
        "durs = [0.5, 0.5, 1, 0.5, 0.5, 0.25, 0.25, 0.25,\n",
        "      0.5, 0.5, 0.5, 1, 0.5, 0.5, 0.5, 1,\n",
        "      0.5, 0.5, 1, 0.25, 0.25, 0.25]"
      ],
      "execution_count": null,
      "outputs": []
    },
    {
      "cell_type": "code",
      "metadata": {
        "id": "QB-_0rnC_5pL"
      },
      "source": [
        "s_all = np.empty(0)\n",
        "\n",
        "for note, dur in zip(notes, durs):\n",
        "  s, t, th= phasor_sine(amp, sr, dur, note, phase)\n",
        "  s_all = np.concatenate((s_all, s))"
      ],
      "execution_count": null,
      "outputs": []
    },
    {
      "cell_type": "code",
      "metadata": {
        "id": "bnr_uHPuRg7b"
      },
      "source": [
        "ipd.Audio(s_all, rate=sr)"
      ],
      "execution_count": null,
      "outputs": []
    }
  ]
}